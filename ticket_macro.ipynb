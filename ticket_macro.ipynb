{
 "cells": [
  {
   "cell_type": "code",
   "execution_count": 28,
   "metadata": {},
   "outputs": [],
   "source": [
    "# pip install selenium\n",
    "# pip install easyocr"
   ]
  },
  {
   "cell_type": "code",
   "execution_count": 29,
   "metadata": {},
   "outputs": [],
   "source": [
    "import selenium\n",
    "from selenium import webdriver\n",
    "from selenium.webdriver.common.by import By\n",
    "from selenium.webdriver.common.keys import Keys\n",
    "from selenium.webdriver.support.ui import Select\n",
    "from selenium.webdriver.chrome.options import Options\n",
    "import time"
   ]
  },
  {
   "cell_type": "code",
   "execution_count": 30,
   "metadata": {},
   "outputs": [],
   "source": [
    "# 브라우저 꺼짐 방지 옵션\n",
    "chrome_options = Options()\n",
    "chrome_options.add_experimental_option(\"detach\", True)\n",
    "\n",
    "# 드라이버 생성\n",
    "driver = webdriver.Chrome(options=chrome_options)\n",
    "\n",
    "# 브라우저 사이즈\n",
    "driver.set_window_size(1900,1000)\n",
    "\n",
    "# 웹페이지가 로드될때까지 2초를 대기\n",
    "driver.implicitly_wait(time_to_wait=2)\n",
    "\n",
    "driver.get(url='https://tickets.interpark.com/')"
   ]
  },
  {
   "cell_type": "code",
   "execution_count": 31,
   "metadata": {},
   "outputs": [],
   "source": [
    "import os\n",
    "\n",
    "# personal.txt 파일에서 아이디와 비밀번호 읽어오기\n",
    "def get_credentials(file_path):\n",
    "    personal = {}\n",
    "    with open(file_path, 'r') as file:\n",
    "        for line in file:\n",
    "            key, value = line.strip().split('=')\n",
    "            personal[key] = value\n",
    "    return personal\n",
    "\n",
    "# personal.txt 파일 경로\n",
    "file_path = 'personal.txt'\n",
    "\n",
    "# 아이디와 비밀번호 가져오기\n",
    "personal = get_credentials(file_path)\n",
    "username = personal.get('username')\n",
    "password = personal.get('password')\n",
    "\n",
    "# 가져온 아이디와 비밀번호를 사용하여 작업 수행\n",
    "# print(f\"Username: {username}\")\n",
    "# print(f\"Password: {password}\")\n",
    "\n",
    "# 여기서 WebDriver 실행 등 필요한 작업을 수행합니다.\n"
   ]
  },
  {
   "cell_type": "code",
   "execution_count": 32,
   "metadata": {},
   "outputs": [],
   "source": [
    "# 로그인\n",
    "driver.find_element(By.LINK_TEXT,'로그인').click()\n",
    "userId = driver.find_element(By.ID, 'userId')\n",
    "userId.send_keys(username)\n",
    "userPwd = driver.find_element(By.ID, \"userPwd\")\n",
    "userPwd.send_keys(password)\n",
    "userPwd.send_keys(Keys.ENTER)\n",
    "# 로그인버튼 클릭\n",
    "# driver.find_element(By.ID, \"btn_login\").click()"
   ]
  },
  {
   "cell_type": "code",
   "execution_count": 33,
   "metadata": {},
   "outputs": [],
   "source": [
    "# 사이트 이동 - 현재 서울이랜드\n",
    "driver.get('https://ticket.interpark.com/Contents/Sports/GoodsInfo?SportsCode=07002&TeamCode=PS006')\n",
    "# 키움 = https://ticket.interpark.com/Contents/Sports/GoodsInfo?SportsCode=07001&TeamCode=PB003\n",
    "# 두산 = https://ticket.interpark.com/Contents/Sports/GoodsInfo?SportsCode=07001&TeamCode=PB004\n",
    "# LCK = https://ticket.interpark.com/Contents/Sports/GoodsInfo?SportsCode=07032&TeamCode=PE015\n",
    "# 서울이랜드 = https://ticket.interpark.com/Contents/Sports/GoodsInfo?SportsCode=07002&TeamCode=PS098\n",
    "# 천안시티FC = https://ticket.interpark.com/Contents/Sports/GoodsInfo?SportsCode=07002&TeamCode=PS006\n",
    "\n",
    "# 첫번째 경기 예매하기 버튼 클릭 CSS_SELECTOR\n",
    "driver.find_element(By.CSS_SELECTOR, f\".timeScheduleList .timeSchedule:nth-of-type({1}) .BtnColor_Y.btn1\").click()"
   ]
  },
  {
   "cell_type": "code",
   "execution_count": 34,
   "metadata": {},
   "outputs": [],
   "source": [
    "import easyocr"
   ]
  },
  {
   "cell_type": "code",
   "execution_count": 35,
   "metadata": {},
   "outputs": [],
   "source": [
    "# 팝업 창으로 포커싱 이동\n",
    "driver.switch_to.window(driver.window_handles[1]) # 기존에 열려있던 창이 0, 팝업창이 1\n",
    "time.sleep(0.5)\n",
    "# 대기순서 창이 나올 수 있음"
   ]
  },
  {
   "cell_type": "code",
   "execution_count": 36,
   "metadata": {},
   "outputs": [],
   "source": [
    "from selenium.webdriver.common.by import By\n",
    "from selenium.webdriver.support.ui import WebDriverWait\n",
    "from selenium.webdriver.support import expected_conditions as EC"
   ]
  },
  {
   "cell_type": "code",
   "execution_count": 37,
   "metadata": {},
   "outputs": [],
   "source": [
    "# 보안문자 iframe 창이 나오는 대기순서 class=\"wrap\" 기다리기\n",
    "wait = WebDriverWait(driver, 100)\n",
    "wait.until(EC.presence_of_element_located((By.ID, \"ifrmSeat\")))\n",
    "\n",
    "# ifrmSeat iframe으로 전환\n",
    "ifrmSeat = driver.find_element(By.XPATH, '//iframe[@id=\"ifrmSeat\"]')\n",
    "driver.switch_to.frame(ifrmSeat)\n",
    "time.sleep(0.5)"
   ]
  },
  {
   "cell_type": "code",
   "execution_count": null,
   "metadata": {},
   "outputs": [],
   "source": [
    "# easyocr 이미지 내에 인식할 언어 지정\n",
    "reader = easyocr.Reader(['en'])\n",
    "\n",
    "# 보안문자 입력 함수\n",
    "def process_captcha():\n",
    "    # 보안 문자 이미지 캡쳐\n",
    "    captchaPng = driver.find_element(By.XPATH, \"//*[@id='imgCaptcha']\")\n",
    "\n",
    "    # 캡쳐한 이미지에서 문자열 인식하기\n",
    "    result = reader.readtext(captchaPng.screenshot_as_png, detail=0)\n",
    "\n",
    "    # 이미지에 점과 직선이 포함되어 있어서 문자 인식이 완벽하지 않아 데이터를 수동으로 보정해줌\n",
    "    captchaValue = result[0].replace('o', '0').replace('s', '5').replace('O', '0').replace('S', '5').replace(' ', '') \\\n",
    "        .replace('7.', '7').replace('4', '4').replace('1', '1').replace('(', '').replace(')', '') \\\n",
    "        .replace('l', 'L').replace('e', '9').replace('S', '5').replace('C', 'C').replace('L', 'L').replace('.', '')\n",
    "\n",
    "    print(captchaValue)\n",
    "\n",
    "    # 유효성 텍스트 박스 찾기\n",
    "    validation_elements = driver.find_elements(By.XPATH, \"//div[contains(@class, 'validationTxt')]\")\n",
    "    for element in validation_elements:\n",
    "        element.click()\n",
    "        break\n",
    "\n",
    "    # 캡차 텍스트 박스에 입력\n",
    "    chaptchaText = driver.find_element(By.XPATH, \"//input[@id='txtCaptcha']\")\n",
    "    chaptchaText.send_keys(captchaValue)\n",
    "\n",
    "    # 제출 버튼 클릭\n",
    "    submit_button = driver.find_element(By.CSS_SELECTOR, \"div.capchaBtns > a\")\n",
    "    submit_button.click()"
   ]
  },
  {
   "cell_type": "code",
   "execution_count": null,
   "metadata": {},
   "outputs": [],
   "source": [
    "# 반복 전송을 통해 성공할 때까지 입력하는 작업을 최대 5회 시도\n",
    "for attempt in range(5):\n",
    "    process_captcha()\n",
    "    time.sleep(0.5)\n",
    "\n",
    "    # \"입력한 문자를 다시 확인해주세요\" 메시지를 찾기\n",
    "    error_messages = driver.find_elements(By.XPATH, \"//div[@class='alertNotice' and contains(text(), '입력한 문자를 다시 확인해주세요')]\")\n",
    "    if error_messages:\n",
    "        print(\"입력한 문자가 일치하지 않습니다. 다시 시도합니다.\")\n",
    "        driver.find_element(By.XPATH, \"//a[@class='refreshBtn']\").click()\n",
    "        time.sleep(1)\n",
    "    else:\n",
    "        print(\"에러 메시지가 없습니다.\")\n",
    "        break\n"
   ]
  },
  {
   "cell_type": "code",
   "execution_count": null,
   "metadata": {},
   "outputs": [],
   "source": [
    "# 좌석 구역 이름 선택\n",
    "# driver.find_element(By.XPATH, \"InlineTextBox='CU캠핑존(2인)']\").click()\n",
    "# time.sleep(0.5)\n",
    "\n",
    "# 좌석선택 버튼 클릭\n",
    "driver.find_element(By.XPATH, '//div[@class=\"twoBtn\"]/a[2]').click()\n",
    "time.sleep(0.5)"
   ]
  },
  {
   "cell_type": "code",
   "execution_count": 41,
   "metadata": {},
   "outputs": [],
   "source": [
    "def select_seat():\n",
    "    # 좌석 요소 가져오기\n",
    "    seat_elements = driver.find_elements(By.CSS_SELECTOR, '.stySeat')\n",
    "    seat_info_list = []\n",
    "\n",
    "    # 좌석 정보 얻기 및 파싱\n",
    "    for seat in seat_elements:\n",
    "        seat_title = seat.get_attribute('title')\n",
    "        print(f\"좌석 정보: {seat_title}\")\n",
    "\n",
    "        try:\n",
    "            seat_row, seat_number_str = seat_title.split('-')\n",
    "            seat_row = seat_row.strip().replace(\"열\", \"\")  # \"열\" 제거\n",
    "            seat_number = int(seat_number_str.strip())\n",
    "            seat_info_list.append((seat_row, seat_number, seat))\n",
    "        except ValueError:\n",
    "            print(f\"좌석 정보를 파싱하는 중 오류 발생: {seat_title}\")\n",
    "            continue\n",
    "\n",
    "    # 연속 확인 및 선택\n",
    "    for i, (seat_row, seat_number, seat) in enumerate(seat_info_list):\n",
    "        if 6 <= seat_number <= 17:  # 6~17 칸 사이의 좌석만 선택\n",
    "            for j in range(i + 1, len(seat_info_list)):\n",
    "                next_seat_row, next_seat_number, next_seat = seat_info_list[j]\n",
    "                if next_seat_row == seat_row and (next_seat_number == seat_number + 1 or next_seat_number == seat_number - 1):\n",
    "                    # 연속이나 선택된 좌석 목록에 추가\n",
    "                    try:\n",
    "                        seat.click()\n",
    "                        next_seat.click()\n",
    "                        print(f\"연속된 좌석 선택 성공: {seat_row}-{seat_number}, {next_seat_row}-{next_seat_number}\")\n",
    "                        return  # 연속된 좌석을 찾았으므로 함수 종료\n",
    "                    except Exception as e:\n",
    "                        print(f\"좌석 선택 중 오류 발생: {e}\")\n",
    "                        continue\n",
    "\n",
    "    # 선택 완료를 위한 대기 시간\n",
    "    time.sleep(1)\n"
   ]
  },
  {
   "cell_type": "code",
   "execution_count": null,
   "metadata": {},
   "outputs": [],
   "source": [
    "def handle_alert_and_retry():\n",
    "    try:\n",
    "        # alert이 뜨면 닫기\n",
    "        WebDriverWait(driver, 2).until(EC.alert_is_present())\n",
    "        alert = driver.switch_to.alert\n",
    "        alert.accept()\n",
    "\n",
    "        # alert을 처리한 후 다시 시도\n",
    "        driver.switch_to.default_content()\n",
    "        driver.switch_to.frame(driver.find_element(By.ID, 'ifrmSeatDetail'))\n",
    "        select_seat()\n",
    "    except TimeoutError:\n",
    "        print(\"alert이 발생하지 않았습니다\")\n",
    "\n",
    "try:\n",
    "    select_seat()\n",
    "    handle_alert_and_retry()\n",
    "finally:\n",
    "    print(\"반복문 끝\")"
   ]
  }
 ],
 "metadata": {
  "kernelspec": {
   "display_name": "Python 3",
   "language": "python",
   "name": "python3"
  },
  "language_info": {
   "codemirror_mode": {
    "name": "ipython",
    "version": 3
   },
   "file_extension": ".py",
   "mimetype": "text/x-python",
   "name": "python",
   "nbconvert_exporter": "python",
   "pygments_lexer": "ipython3",
   "version": "3.11.6"
  }
 },
 "nbformat": 4,
 "nbformat_minor": 2
}
