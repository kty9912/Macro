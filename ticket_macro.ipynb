{
 "cells": [
  {
   "cell_type": "code",
   "execution_count": 1,
   "metadata": {},
   "outputs": [],
   "source": [
    "# pip install selenium\n",
    "# pip install easyocr"
   ]
  },
  {
   "cell_type": "code",
   "execution_count": 2,
   "metadata": {},
   "outputs": [],
   "source": [
    "import selenium\n",
    "from selenium import webdriver\n",
    "from selenium.webdriver.common.by import By\n",
    "from selenium.webdriver.common.keys import Keys\n",
    "from selenium.webdriver.support.ui import Select\n",
    "from selenium.webdriver.chrome.options import Options\n",
    "import time"
   ]
  },
  {
   "cell_type": "code",
   "execution_count": 3,
   "metadata": {},
   "outputs": [],
   "source": [
    "# 브라우저 꺼짐 방지 옵션\n",
    "chrome_options = Options()\n",
    "chrome_options.add_experimental_option(\"detach\", True)\n",
    "\n",
    "# 드라이버 생성\n",
    "driver = webdriver.Chrome(options=chrome_options)\n",
    "\n",
    "# 브라우저 사이즈\n",
    "driver.set_window_size(1900,1000)\n",
    "\n",
    "# 웹페이지가 로드될때까지 2초를 대기\n",
    "driver.implicitly_wait(time_to_wait=2)\n",
    "\n",
    "driver.get(url='https://tickets.interpark.com/')"
   ]
  },
  {
   "cell_type": "code",
   "execution_count": 4,
   "metadata": {},
   "outputs": [],
   "source": [
    "import os\n",
    "\n",
    "# personal.txt 파일에서 아이디와 비밀번호 읽어오기\n",
    "def get_credentials(file_path):\n",
    "    personal = {}\n",
    "    with open(file_path, 'r') as file:\n",
    "        for line in file:\n",
    "            key, value = line.strip().split('=')\n",
    "            personal[key] = value\n",
    "    return personal\n",
    "\n",
    "# personal.txt 파일 경로\n",
    "file_path = 'personal.txt'\n",
    "\n",
    "# 아이디와 비밀번호 가져오기\n",
    "personal = get_credentials(file_path)\n",
    "username = personal.get('username')\n",
    "password = personal.get('password')\n",
    "\n",
    "# 가져온 아이디와 비밀번호를 사용하여 작업 수행\n",
    "# print(f\"Username: {username}\")\n",
    "# print(f\"Password: {password}\")\n",
    "\n",
    "# 여기서 WebDriver 실행 등 필요한 작업을 수행합니다.\n"
   ]
  },
  {
   "cell_type": "code",
   "execution_count": 5,
   "metadata": {},
   "outputs": [],
   "source": [
    "# 로그인\n",
    "driver.find_element(By.LINK_TEXT,'로그인').click()\n",
    "userId = driver.find_element(By.ID, 'userId')\n",
    "userId.send_keys(username)\n",
    "userPwd = driver.find_element(By.ID, \"userPwd\")\n",
    "userPwd.send_keys(password)\n",
    "userPwd.send_keys(Keys.ENTER)\n",
    "# 로그인버튼 클릭\n",
    "# driver.find_element(By.ID, \"btn_login\").click()"
   ]
  },
  {
   "cell_type": "code",
   "execution_count": 6,
   "metadata": {},
   "outputs": [],
   "source": [
    "# 사이트 이동 - 현재 LCK\n",
    "driver.get('https://ticket.interpark.com/Contents/Sports/GoodsInfo?SportsCode=07032&TeamCode=PE015')\n",
    "# 키움 = https://ticket.interpark.com/Contents/Sports/GoodsInfo?SportsCode=07001&TeamCode=PB003\n",
    "# 두산 = https://ticket.interpark.com/Contents/Sports/GoodsInfo?SportsCode=07001&TeamCode=PB004\n",
    "# LCK = https://ticket.interpark.com/Contents/Sports/GoodsInfo?SportsCode=07032&TeamCode=PE015\n",
    "\n",
    "# 첫번째 경기 예매하기 버튼 클릭 CSS_SELECTOR\n",
    "driver.find_element(By.CSS_SELECTOR, f\".timeScheduleList .timeSchedule:nth-of-type({1}) .BtnColor_Y.btn1\").click()"
   ]
  },
  {
   "cell_type": "code",
   "execution_count": 7,
   "metadata": {},
   "outputs": [],
   "source": [
    "import easyocr"
   ]
  },
  {
   "cell_type": "code",
   "execution_count": 8,
   "metadata": {},
   "outputs": [],
   "source": [
    "# 팝업 창으로 포커싱 이동\n",
    "driver.switch_to.window(driver.window_handles[1]) # 기존에 열려있던 창이 0, 팝업창이 1\n",
    "time.sleep(0.5)\n",
    "# 대기순서 창이 나올 수 있음"
   ]
  },
  {
   "cell_type": "code",
   "execution_count": null,
   "metadata": {},
   "outputs": [],
   "source": [
    "from selenium.webdriver.common.by import By\n",
    "from selenium.webdriver.support.ui import WebDriverWait\n",
    "from selenium.webdriver.support import expected_conditions as EC"
   ]
  },
  {
   "cell_type": "code",
   "execution_count": 9,
   "metadata": {},
   "outputs": [
    {
     "ename": "NameError",
     "evalue": "name 'WebDriverWait' is not defined",
     "output_type": "error",
     "traceback": [
      "\u001b[1;31m---------------------------------------------------------------------------\u001b[0m",
      "\u001b[1;31mNameError\u001b[0m                                 Traceback (most recent call last)",
      "Cell \u001b[1;32mIn[9], line 2\u001b[0m\n\u001b[0;32m      1\u001b[0m \u001b[38;5;66;03m# 보안문자 iframe 창이 나오는 대기순서 class=\"wrap\" 기다리기\u001b[39;00m\n\u001b[1;32m----> 2\u001b[0m wait \u001b[38;5;241m=\u001b[39m \u001b[43mWebDriverWait\u001b[49m(driver, \u001b[38;5;241m100\u001b[39m)\n\u001b[0;32m      3\u001b[0m wait\u001b[38;5;241m.\u001b[39muntil(EC\u001b[38;5;241m.\u001b[39mpresence_of_element_located((By\u001b[38;5;241m.\u001b[39mID, \u001b[38;5;124m\"\u001b[39m\u001b[38;5;124mifrmSeat\u001b[39m\u001b[38;5;124m\"\u001b[39m)))\n\u001b[0;32m      5\u001b[0m \u001b[38;5;66;03m# ifrmSeat iframe으로 전환\u001b[39;00m\n",
      "\u001b[1;31mNameError\u001b[0m: name 'WebDriverWait' is not defined"
     ]
    }
   ],
   "source": [
    "# 보안문자 iframe 창이 나오는 대기순서 class=\"wrap\" 기다리기\n",
    "wait = WebDriverWait(driver, 100)\n",
    "wait.until(EC.presence_of_element_located((By.ID, \"ifrmSeat\")))\n",
    "\n",
    "# ifrmSeat iframe으로 전환\n",
    "ifrmSeat = driver.find_element(By.XPATH, '//iframe[@id=\"ifrmSeat\"]')\n",
    "driver.switch_to.frame(ifrmSeat)\n",
    "time.sleep(0.5)"
   ]
  },
  {
   "cell_type": "code",
   "execution_count": null,
   "metadata": {},
   "outputs": [],
   "source": []
  }
 ],
 "metadata": {
  "kernelspec": {
   "display_name": "Python 3",
   "language": "python",
   "name": "python3"
  },
  "language_info": {
   "codemirror_mode": {
    "name": "ipython",
    "version": 3
   },
   "file_extension": ".py",
   "mimetype": "text/x-python",
   "name": "python",
   "nbconvert_exporter": "python",
   "pygments_lexer": "ipython3",
   "version": "3.12.6"
  }
 },
 "nbformat": 4,
 "nbformat_minor": 2
}
