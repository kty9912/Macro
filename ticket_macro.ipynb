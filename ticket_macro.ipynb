{
 "cells": [
  {
   "cell_type": "code",
   "execution_count": 28,
   "metadata": {},
   "outputs": [],
   "source": [
    "# pip install selenium\n",
    "# pip install easyocr"
   ]
  },
  {
   "cell_type": "code",
   "execution_count": 29,
   "metadata": {},
   "outputs": [],
   "source": [
    "import selenium\n",
    "from selenium import webdriver\n",
    "from selenium.webdriver.common.by import By\n",
    "from selenium.webdriver.common.keys import Keys\n",
    "from selenium.webdriver.support.ui import Select\n",
    "from selenium.webdriver.chrome.options import Options\n",
    "import time"
   ]
  },
  {
   "cell_type": "code",
   "execution_count": 30,
   "metadata": {},
   "outputs": [],
   "source": [
    "# 브라우저 꺼짐 방지 옵션\n",
    "chrome_options = Options()\n",
    "chrome_options.add_experimental_option(\"detach\", True)\n",
    "\n",
    "# 드라이버 생성\n",
    "driver = webdriver.Chrome(options=chrome_options)\n",
    "\n",
    "# 브라우저 사이즈\n",
    "driver.set_window_size(1900,1000)\n",
    "\n",
    "# 웹페이지가 로드될때까지 2초를 대기\n",
    "driver.implicitly_wait(time_to_wait=2)\n",
    "\n",
    "driver.get(url='https://tickets.interpark.com/')"
   ]
  },
  {
   "cell_type": "code",
   "execution_count": 31,
   "metadata": {},
   "outputs": [],
   "source": [
    "import os\n",
    "\n",
    "# personal.txt 파일에서 아이디와 비밀번호 읽어오기\n",
    "def get_credentials(file_path):\n",
    "    personal = {}\n",
    "    with open(file_path, 'r') as file:\n",
    "        for line in file:\n",
    "            key, value = line.strip().split('=')\n",
    "            personal[key] = value\n",
    "    return personal\n",
    "\n",
    "# personal.txt 파일 경로\n",
    "file_path = 'personal.txt'\n",
    "\n",
    "# 아이디와 비밀번호 가져오기\n",
    "personal = get_credentials(file_path)\n",
    "username = personal.get('username')\n",
    "password = personal.get('password')\n",
    "\n",
    "# 가져온 아이디와 비밀번호를 사용하여 작업 수행\n",
    "# print(f\"Username: {username}\")\n",
    "# print(f\"Password: {password}\")\n",
    "\n",
    "# 여기서 WebDriver 실행 등 필요한 작업을 수행합니다.\n"
   ]
  },
  {
   "cell_type": "code",
   "execution_count": 32,
   "metadata": {},
   "outputs": [],
   "source": [
    "# 로그인\n",
    "driver.find_element(By.LINK_TEXT,'로그인').click()\n",
    "userId = driver.find_element(By.ID, 'userId')\n",
    "userId.send_keys(username)\n",
    "userPwd = driver.find_element(By.ID, \"userPwd\")\n",
    "userPwd.send_keys(password)\n",
    "userPwd.send_keys(Keys.ENTER)\n",
    "# 로그인버튼 클릭\n",
    "# driver.find_element(By.ID, \"btn_login\").click()"
   ]
  },
  {
   "cell_type": "code",
   "execution_count": 33,
   "metadata": {},
   "outputs": [],
   "source": [
    "# 사이트 이동 - 현재 서울이랜드\n",
    "driver.get('https://ticket.interpark.com/Contents/Sports/GoodsInfo?SportsCode=07002&TeamCode=PS006')\n",
    "# 키움 = https://ticket.interpark.com/Contents/Sports/GoodsInfo?SportsCode=07001&TeamCode=PB003\n",
    "# 두산 = https://ticket.interpark.com/Contents/Sports/GoodsInfo?SportsCode=07001&TeamCode=PB004\n",
    "# LCK = https://ticket.interpark.com/Contents/Sports/GoodsInfo?SportsCode=07032&TeamCode=PE015\n",
    "# 서울이랜드 = https://ticket.interpark.com/Contents/Sports/GoodsInfo?SportsCode=07002&TeamCode=PS098\n",
    "# 천안시티FC = https://ticket.interpark.com/Contents/Sports/GoodsInfo?SportsCode=07002&TeamCode=PS006\n",
    "\n",
    "# 첫번째 경기 예매하기 버튼 클릭 CSS_SELECTOR\n",
    "driver.find_element(By.CSS_SELECTOR, f\".timeScheduleList .timeSchedule:nth-of-type({1}) .BtnColor_Y.btn1\").click()"
   ]
  },
  {
   "cell_type": "code",
   "execution_count": 34,
   "metadata": {},
   "outputs": [],
   "source": [
    "import easyocr"
   ]
  },
  {
   "cell_type": "code",
   "execution_count": 35,
   "metadata": {},
   "outputs": [],
   "source": [
    "# 팝업 창으로 포커싱 이동\n",
    "driver.switch_to.window(driver.window_handles[1]) # 기존에 열려있던 창이 0, 팝업창이 1\n",
    "time.sleep(0.5)\n",
    "# 대기순서 창이 나올 수 있음"
   ]
  },
  {
   "cell_type": "code",
   "execution_count": 36,
   "metadata": {},
   "outputs": [],
   "source": [
    "from selenium.webdriver.common.by import By\n",
    "from selenium.webdriver.support.ui import WebDriverWait\n",
    "from selenium.webdriver.support import expected_conditions as EC"
   ]
  },
  {
   "cell_type": "code",
   "execution_count": 37,
   "metadata": {},
   "outputs": [],
   "source": [
    "# 보안문자 iframe 창이 나오는 대기순서 class=\"wrap\" 기다리기\n",
    "wait = WebDriverWait(driver, 100)\n",
    "wait.until(EC.presence_of_element_located((By.ID, \"ifrmSeat\")))\n",
    "\n",
    "# ifrmSeat iframe으로 전환\n",
    "ifrmSeat = driver.find_element(By.XPATH, '//iframe[@id=\"ifrmSeat\"]')\n",
    "driver.switch_to.frame(ifrmSeat)\n",
    "time.sleep(0.5)"
   ]
  },
  {
   "cell_type": "code",
   "execution_count": 38,
   "metadata": {},
   "outputs": [
    {
     "name": "stderr",
     "output_type": "stream",
     "text": [
      "Neither CUDA nor MPS are available - defaulting to CPU. Note: This module is much faster with a GPU.\n",
      "c:\\Users\\kty99\\AppData\\Local\\Programs\\Python\\Python311\\Lib\\site-packages\\easyocr\\detection.py:78: FutureWarning: You are using `torch.load` with `weights_only=False` (the current default value), which uses the default pickle module implicitly. It is possible to construct malicious pickle data which will execute arbitrary code during unpickling (See https://github.com/pytorch/pytorch/blob/main/SECURITY.md#untrusted-models for more details). In a future release, the default value for `weights_only` will be flipped to `True`. This limits the functions that could be executed during unpickling. Arbitrary objects will no longer be allowed to be loaded via this mode unless they are explicitly allowlisted by the user via `torch.serialization.add_safe_globals`. We recommend you start setting `weights_only=True` for any use case where you don't have full control of the loaded file. Please open an issue on GitHub for any issues related to this experimental feature.\n",
      "  net.load_state_dict(copyStateDict(torch.load(trained_model, map_location=device)))\n",
      "c:\\Users\\kty99\\AppData\\Local\\Programs\\Python\\Python311\\Lib\\site-packages\\easyocr\\recognition.py:169: FutureWarning: You are using `torch.load` with `weights_only=False` (the current default value), which uses the default pickle module implicitly. It is possible to construct malicious pickle data which will execute arbitrary code during unpickling (See https://github.com/pytorch/pytorch/blob/main/SECURITY.md#untrusted-models for more details). In a future release, the default value for `weights_only` will be flipped to `True`. This limits the functions that could be executed during unpickling. Arbitrary objects will no longer be allowed to be loaded via this mode unless they are explicitly allowlisted by the user via `torch.serialization.add_safe_globals`. We recommend you start setting `weights_only=True` for any use case where you don't have full control of the loaded file. Please open an issue on GitHub for any issues related to this experimental feature.\n",
      "  state_dict = torch.load(model_path, map_location=device)\n"
     ]
    }
   ],
   "source": [
    "# easyocr 이미지 내에 인식할 언어 지정\n",
    "reader = easyocr.Reader(['en'])\n",
    "\n",
    "# 보안문자 입력 함수\n",
    "def process_captcha():\n",
    "    # 보안 문자 이미지 캡쳐\n",
    "    captchaPng = driver.find_element(By.XPATH, \"//*[@id='imgCaptcha']\")\n",
    "\n",
    "    # 캡쳐한 이미지에서 문자열 인식하기\n",
    "    result = reader.readtext(captchaPng.screenshot_as_png, detail=0)\n",
    "\n",
    "    # 이미지에 점과 직선이 포함되어 있어서 문자 인식이 완벽하지 않아 데이터를 수동으로 보정해줌\n",
    "    captchaValue = result[0].replace('o', '0').replace('s', '5').replace('O', '0').replace('S', '5').replace(' ', '') \\\n",
    "        .replace('7.', '7').replace('4', '4').replace('1', '1').replace('(', '').replace(')', '') \\\n",
    "        .replace('l', 'L').replace('e', '9').replace('S', '5').replace('C', 'C').replace('L', 'L').replace('.', '')\n",
    "\n",
    "    print(captchaValue)\n",
    "\n",
    "    # 유효성 텍스트 박스 찾기\n",
    "    validation_elements = driver.find_elements(By.XPATH, \"//div[contains(@class, 'validationTxt')]\")\n",
    "    for element in validation_elements:\n",
    "        element.click()\n",
    "        break\n",
    "\n",
    "    # 캡차 텍스트 박스에 입력\n",
    "    chaptchaText = driver.find_element(By.XPATH, \"//input[@id='txtCaptcha']\")\n",
    "    chaptchaText.send_keys(captchaValue)\n",
    "\n",
    "    # 제출 버튼 클릭\n",
    "    submit_button = driver.find_element(By.CSS_SELECTOR, \"div.capchaBtns > a\")\n",
    "    submit_button.click()"
   ]
  },
  {
   "cell_type": "code",
   "execution_count": 13,
   "metadata": {},
   "outputs": [
    {
     "ename": "NoSuchElementException",
     "evalue": "Message: no such element: Unable to locate element: {\"method\":\"xpath\",\"selector\":\"//*[@id='imgCaptcha']\"}\n  (Session info: chrome=129.0.6668.90); For documentation on this error, please visit: https://www.selenium.dev/documentation/webdriver/troubleshooting/errors#no-such-element-exception\nStacktrace:\n\tGetHandleVerifier [0x00007FF69207B095+29557]\n\t(No symbol) [0x00007FF691FEFA50]\n\t(No symbol) [0x00007FF691EAB56A]\n\t(No symbol) [0x00007FF691EFF695]\n\t(No symbol) [0x00007FF691EFF8EC]\n\t(No symbol) [0x00007FF691F4B777]\n\t(No symbol) [0x00007FF691F271CF]\n\t(No symbol) [0x00007FF691F4851C]\n\t(No symbol) [0x00007FF691F26F33]\n\t(No symbol) [0x00007FF691EF116F]\n\t(No symbol) [0x00007FF691EF22D1]\n\tGetHandleVerifier [0x00007FF6923AC96D+3378253]\n\tGetHandleVerifier [0x00007FF6923F8497+3688311]\n\tGetHandleVerifier [0x00007FF6923ED1CB+3642539]\n\tGetHandleVerifier [0x00007FF69213A6B6+813462]\n\t(No symbol) [0x00007FF691FFAB5F]\n\t(No symbol) [0x00007FF691FF6B74]\n\t(No symbol) [0x00007FF691FF6D10]\n\t(No symbol) [0x00007FF691FE5C1F]\n\tBaseThreadInitThunk [0x00007FFA331E257D+29]\n\tRtlUserThreadStart [0x00007FFA33DCAF08+40]\n",
     "output_type": "error",
     "traceback": [
      "\u001b[1;31m---------------------------------------------------------------------------\u001b[0m",
      "\u001b[1;31mNoSuchElementException\u001b[0m                    Traceback (most recent call last)",
      "Cell \u001b[1;32mIn[13], line 3\u001b[0m\n\u001b[0;32m      1\u001b[0m \u001b[38;5;66;03m# 반복 전송을 통해 성공할 때까지 입력하는 작업을 최대 5회 시도\u001b[39;00m\n\u001b[0;32m      2\u001b[0m \u001b[38;5;28;01mfor\u001b[39;00m attempt \u001b[38;5;129;01min\u001b[39;00m \u001b[38;5;28mrange\u001b[39m(\u001b[38;5;241m5\u001b[39m):\n\u001b[1;32m----> 3\u001b[0m     \u001b[43mprocess_captcha\u001b[49m\u001b[43m(\u001b[49m\u001b[43m)\u001b[49m\n\u001b[0;32m      4\u001b[0m     time\u001b[38;5;241m.\u001b[39msleep(\u001b[38;5;241m0.5\u001b[39m)\n\u001b[0;32m      6\u001b[0m     \u001b[38;5;66;03m# \"입력한 문자를 다시 확인해주세요\" 메시지를 찾기\u001b[39;00m\n",
      "Cell \u001b[1;32mIn[12], line 7\u001b[0m, in \u001b[0;36mprocess_captcha\u001b[1;34m()\u001b[0m\n\u001b[0;32m      5\u001b[0m \u001b[38;5;28;01mdef\u001b[39;00m \u001b[38;5;21mprocess_captcha\u001b[39m():\n\u001b[0;32m      6\u001b[0m     \u001b[38;5;66;03m# 보안 문자 이미지 캡쳐\u001b[39;00m\n\u001b[1;32m----> 7\u001b[0m     captchaPng \u001b[38;5;241m=\u001b[39m \u001b[43mdriver\u001b[49m\u001b[38;5;241;43m.\u001b[39;49m\u001b[43mfind_element\u001b[49m\u001b[43m(\u001b[49m\u001b[43mBy\u001b[49m\u001b[38;5;241;43m.\u001b[39;49m\u001b[43mXPATH\u001b[49m\u001b[43m,\u001b[49m\u001b[43m \u001b[49m\u001b[38;5;124;43m\"\u001b[39;49m\u001b[38;5;124;43m//*[@id=\u001b[39;49m\u001b[38;5;124;43m'\u001b[39;49m\u001b[38;5;124;43mimgCaptcha\u001b[39;49m\u001b[38;5;124;43m'\u001b[39;49m\u001b[38;5;124;43m]\u001b[39;49m\u001b[38;5;124;43m\"\u001b[39;49m\u001b[43m)\u001b[49m\n\u001b[0;32m      9\u001b[0m     \u001b[38;5;66;03m# 캡쳐한 이미지에서 문자열 인식하기\u001b[39;00m\n\u001b[0;32m     10\u001b[0m     result \u001b[38;5;241m=\u001b[39m reader\u001b[38;5;241m.\u001b[39mreadtext(captchaPng\u001b[38;5;241m.\u001b[39mscreenshot_as_png, detail\u001b[38;5;241m=\u001b[39m\u001b[38;5;241m0\u001b[39m)\n",
      "File \u001b[1;32mc:\\Users\\kty99\\AppData\\Local\\Programs\\Python\\Python311\\Lib\\site-packages\\selenium\\webdriver\\remote\\webdriver.py:748\u001b[0m, in \u001b[0;36mWebDriver.find_element\u001b[1;34m(self, by, value)\u001b[0m\n\u001b[0;32m    745\u001b[0m     by \u001b[38;5;241m=\u001b[39m By\u001b[38;5;241m.\u001b[39mCSS_SELECTOR\n\u001b[0;32m    746\u001b[0m     value \u001b[38;5;241m=\u001b[39m \u001b[38;5;124mf\u001b[39m\u001b[38;5;124m'\u001b[39m\u001b[38;5;124m[name=\u001b[39m\u001b[38;5;124m\"\u001b[39m\u001b[38;5;132;01m{\u001b[39;00mvalue\u001b[38;5;132;01m}\u001b[39;00m\u001b[38;5;124m\"\u001b[39m\u001b[38;5;124m]\u001b[39m\u001b[38;5;124m'\u001b[39m\n\u001b[1;32m--> 748\u001b[0m \u001b[38;5;28;01mreturn\u001b[39;00m \u001b[38;5;28;43mself\u001b[39;49m\u001b[38;5;241;43m.\u001b[39;49m\u001b[43mexecute\u001b[49m\u001b[43m(\u001b[49m\u001b[43mCommand\u001b[49m\u001b[38;5;241;43m.\u001b[39;49m\u001b[43mFIND_ELEMENT\u001b[49m\u001b[43m,\u001b[49m\u001b[43m \u001b[49m\u001b[43m{\u001b[49m\u001b[38;5;124;43m\"\u001b[39;49m\u001b[38;5;124;43musing\u001b[39;49m\u001b[38;5;124;43m\"\u001b[39;49m\u001b[43m:\u001b[49m\u001b[43m \u001b[49m\u001b[43mby\u001b[49m\u001b[43m,\u001b[49m\u001b[43m \u001b[49m\u001b[38;5;124;43m\"\u001b[39;49m\u001b[38;5;124;43mvalue\u001b[39;49m\u001b[38;5;124;43m\"\u001b[39;49m\u001b[43m:\u001b[49m\u001b[43m \u001b[49m\u001b[43mvalue\u001b[49m\u001b[43m}\u001b[49m\u001b[43m)\u001b[49m[\u001b[38;5;124m\"\u001b[39m\u001b[38;5;124mvalue\u001b[39m\u001b[38;5;124m\"\u001b[39m]\n",
      "File \u001b[1;32mc:\\Users\\kty99\\AppData\\Local\\Programs\\Python\\Python311\\Lib\\site-packages\\selenium\\webdriver\\remote\\webdriver.py:354\u001b[0m, in \u001b[0;36mWebDriver.execute\u001b[1;34m(self, driver_command, params)\u001b[0m\n\u001b[0;32m    352\u001b[0m response \u001b[38;5;241m=\u001b[39m \u001b[38;5;28mself\u001b[39m\u001b[38;5;241m.\u001b[39mcommand_executor\u001b[38;5;241m.\u001b[39mexecute(driver_command, params)\n\u001b[0;32m    353\u001b[0m \u001b[38;5;28;01mif\u001b[39;00m response:\n\u001b[1;32m--> 354\u001b[0m     \u001b[38;5;28;43mself\u001b[39;49m\u001b[38;5;241;43m.\u001b[39;49m\u001b[43merror_handler\u001b[49m\u001b[38;5;241;43m.\u001b[39;49m\u001b[43mcheck_response\u001b[49m\u001b[43m(\u001b[49m\u001b[43mresponse\u001b[49m\u001b[43m)\u001b[49m\n\u001b[0;32m    355\u001b[0m     response[\u001b[38;5;124m\"\u001b[39m\u001b[38;5;124mvalue\u001b[39m\u001b[38;5;124m\"\u001b[39m] \u001b[38;5;241m=\u001b[39m \u001b[38;5;28mself\u001b[39m\u001b[38;5;241m.\u001b[39m_unwrap_value(response\u001b[38;5;241m.\u001b[39mget(\u001b[38;5;124m\"\u001b[39m\u001b[38;5;124mvalue\u001b[39m\u001b[38;5;124m\"\u001b[39m, \u001b[38;5;28;01mNone\u001b[39;00m))\n\u001b[0;32m    356\u001b[0m     \u001b[38;5;28;01mreturn\u001b[39;00m response\n",
      "File \u001b[1;32mc:\\Users\\kty99\\AppData\\Local\\Programs\\Python\\Python311\\Lib\\site-packages\\selenium\\webdriver\\remote\\errorhandler.py:229\u001b[0m, in \u001b[0;36mErrorHandler.check_response\u001b[1;34m(self, response)\u001b[0m\n\u001b[0;32m    227\u001b[0m         alert_text \u001b[38;5;241m=\u001b[39m value[\u001b[38;5;124m\"\u001b[39m\u001b[38;5;124malert\u001b[39m\u001b[38;5;124m\"\u001b[39m]\u001b[38;5;241m.\u001b[39mget(\u001b[38;5;124m\"\u001b[39m\u001b[38;5;124mtext\u001b[39m\u001b[38;5;124m\"\u001b[39m)\n\u001b[0;32m    228\u001b[0m     \u001b[38;5;28;01mraise\u001b[39;00m exception_class(message, screen, stacktrace, alert_text)  \u001b[38;5;66;03m# type: ignore[call-arg]  # mypy is not smart enough here\u001b[39;00m\n\u001b[1;32m--> 229\u001b[0m \u001b[38;5;28;01mraise\u001b[39;00m exception_class(message, screen, stacktrace)\n",
      "\u001b[1;31mNoSuchElementException\u001b[0m: Message: no such element: Unable to locate element: {\"method\":\"xpath\",\"selector\":\"//*[@id='imgCaptcha']\"}\n  (Session info: chrome=129.0.6668.90); For documentation on this error, please visit: https://www.selenium.dev/documentation/webdriver/troubleshooting/errors#no-such-element-exception\nStacktrace:\n\tGetHandleVerifier [0x00007FF69207B095+29557]\n\t(No symbol) [0x00007FF691FEFA50]\n\t(No symbol) [0x00007FF691EAB56A]\n\t(No symbol) [0x00007FF691EFF695]\n\t(No symbol) [0x00007FF691EFF8EC]\n\t(No symbol) [0x00007FF691F4B777]\n\t(No symbol) [0x00007FF691F271CF]\n\t(No symbol) [0x00007FF691F4851C]\n\t(No symbol) [0x00007FF691F26F33]\n\t(No symbol) [0x00007FF691EF116F]\n\t(No symbol) [0x00007FF691EF22D1]\n\tGetHandleVerifier [0x00007FF6923AC96D+3378253]\n\tGetHandleVerifier [0x00007FF6923F8497+3688311]\n\tGetHandleVerifier [0x00007FF6923ED1CB+3642539]\n\tGetHandleVerifier [0x00007FF69213A6B6+813462]\n\t(No symbol) [0x00007FF691FFAB5F]\n\t(No symbol) [0x00007FF691FF6B74]\n\t(No symbol) [0x00007FF691FF6D10]\n\t(No symbol) [0x00007FF691FE5C1F]\n\tBaseThreadInitThunk [0x00007FFA331E257D+29]\n\tRtlUserThreadStart [0x00007FFA33DCAF08+40]\n"
     ]
    }
   ],
   "source": [
    "# 반복 전송을 통해 성공할 때까지 입력하는 작업을 최대 5회 시도\n",
    "for attempt in range(5):\n",
    "    process_captcha()\n",
    "    time.sleep(0.5)\n",
    "\n",
    "    # \"입력한 문자를 다시 확인해주세요\" 메시지를 찾기\n",
    "    error_messages = driver.find_elements(By.XPATH, \"//div[@class='alertNotice' and contains(text(), '입력한 문자를 다시 확인해주세요')]\")\n",
    "    if error_messages:\n",
    "        print(\"입력한 문자가 일치하지 않습니다. 다시 시도합니다.\")\n",
    "        driver.find_element(By.XPATH, \"//a[@class='refreshBtn']\").click()\n",
    "        time.sleep(1)\n",
    "    else:\n",
    "        print(\"에러 메시지가 없습니다.\")\n",
    "        break\n"
   ]
  },
  {
   "cell_type": "code",
   "execution_count": 39,
   "metadata": {},
   "outputs": [
    {
     "ename": "ElementNotInteractableException",
     "evalue": "Message: element not interactable\n  (Session info: chrome=129.0.6668.90)\nStacktrace:\n\tGetHandleVerifier [0x00007FF69207B095+29557]\n\t(No symbol) [0x00007FF691FEFA50]\n\t(No symbol) [0x00007FF691EAB399]\n\t(No symbol) [0x00007FF691F00B0F]\n\t(No symbol) [0x00007FF691EF354E]\n\t(No symbol) [0x00007FF691F2718A]\n\t(No symbol) [0x00007FF691EF2E86]\n\t(No symbol) [0x00007FF691F273A0]\n\t(No symbol) [0x00007FF691F4851C]\n\t(No symbol) [0x00007FF691F26F33]\n\t(No symbol) [0x00007FF691EF116F]\n\t(No symbol) [0x00007FF691EF22D1]\n\tGetHandleVerifier [0x00007FF6923AC96D+3378253]\n\tGetHandleVerifier [0x00007FF6923F8497+3688311]\n\tGetHandleVerifier [0x00007FF6923ED1CB+3642539]\n\tGetHandleVerifier [0x00007FF69213A6B6+813462]\n\t(No symbol) [0x00007FF691FFAB5F]\n\t(No symbol) [0x00007FF691FF6B74]\n\t(No symbol) [0x00007FF691FF6D10]\n\t(No symbol) [0x00007FF691FE5C1F]\n\tBaseThreadInitThunk [0x00007FFA331E257D+29]\n\tRtlUserThreadStart [0x00007FFA33DCAF08+40]\n",
     "output_type": "error",
     "traceback": [
      "\u001b[1;31m---------------------------------------------------------------------------\u001b[0m",
      "\u001b[1;31mElementNotInteractableException\u001b[0m           Traceback (most recent call last)",
      "Cell \u001b[1;32mIn[39], line 6\u001b[0m\n\u001b[0;32m      1\u001b[0m \u001b[38;5;66;03m# 좌석 구역 이름 선택\u001b[39;00m\n\u001b[0;32m      2\u001b[0m \u001b[38;5;66;03m# driver.find_element(By.XPATH, \"InlineTextBox='CU캠핑존(2인)']\").click()\u001b[39;00m\n\u001b[0;32m      3\u001b[0m \u001b[38;5;66;03m# time.sleep(0.5)\u001b[39;00m\n\u001b[0;32m      4\u001b[0m \n\u001b[0;32m      5\u001b[0m \u001b[38;5;66;03m# 좌석선택 버튼 클릭\u001b[39;00m\n\u001b[1;32m----> 6\u001b[0m \u001b[43mdriver\u001b[49m\u001b[38;5;241;43m.\u001b[39;49m\u001b[43mfind_element\u001b[49m\u001b[43m(\u001b[49m\u001b[43mBy\u001b[49m\u001b[38;5;241;43m.\u001b[39;49m\u001b[43mXPATH\u001b[49m\u001b[43m,\u001b[49m\u001b[43m \u001b[49m\u001b[38;5;124;43m'\u001b[39;49m\u001b[38;5;124;43m//div[@class=\u001b[39;49m\u001b[38;5;124;43m\"\u001b[39;49m\u001b[38;5;124;43mtwoBtn\u001b[39;49m\u001b[38;5;124;43m\"\u001b[39;49m\u001b[38;5;124;43m]/a[2]\u001b[39;49m\u001b[38;5;124;43m'\u001b[39;49m\u001b[43m)\u001b[49m\u001b[38;5;241;43m.\u001b[39;49m\u001b[43mclick\u001b[49m\u001b[43m(\u001b[49m\u001b[43m)\u001b[49m\n\u001b[0;32m      7\u001b[0m time\u001b[38;5;241m.\u001b[39msleep(\u001b[38;5;241m0.5\u001b[39m)\n",
      "File \u001b[1;32mc:\\Users\\kty99\\AppData\\Local\\Programs\\Python\\Python311\\Lib\\site-packages\\selenium\\webdriver\\remote\\webelement.py:94\u001b[0m, in \u001b[0;36mWebElement.click\u001b[1;34m(self)\u001b[0m\n\u001b[0;32m     92\u001b[0m \u001b[38;5;28;01mdef\u001b[39;00m \u001b[38;5;21mclick\u001b[39m(\u001b[38;5;28mself\u001b[39m) \u001b[38;5;241m-\u001b[39m\u001b[38;5;241m>\u001b[39m \u001b[38;5;28;01mNone\u001b[39;00m:\n\u001b[0;32m     93\u001b[0m \u001b[38;5;250m    \u001b[39m\u001b[38;5;124;03m\"\"\"Clicks the element.\"\"\"\u001b[39;00m\n\u001b[1;32m---> 94\u001b[0m     \u001b[38;5;28;43mself\u001b[39;49m\u001b[38;5;241;43m.\u001b[39;49m\u001b[43m_execute\u001b[49m\u001b[43m(\u001b[49m\u001b[43mCommand\u001b[49m\u001b[38;5;241;43m.\u001b[39;49m\u001b[43mCLICK_ELEMENT\u001b[49m\u001b[43m)\u001b[49m\n",
      "File \u001b[1;32mc:\\Users\\kty99\\AppData\\Local\\Programs\\Python\\Python311\\Lib\\site-packages\\selenium\\webdriver\\remote\\webelement.py:395\u001b[0m, in \u001b[0;36mWebElement._execute\u001b[1;34m(self, command, params)\u001b[0m\n\u001b[0;32m    393\u001b[0m     params \u001b[38;5;241m=\u001b[39m {}\n\u001b[0;32m    394\u001b[0m params[\u001b[38;5;124m\"\u001b[39m\u001b[38;5;124mid\u001b[39m\u001b[38;5;124m\"\u001b[39m] \u001b[38;5;241m=\u001b[39m \u001b[38;5;28mself\u001b[39m\u001b[38;5;241m.\u001b[39m_id\n\u001b[1;32m--> 395\u001b[0m \u001b[38;5;28;01mreturn\u001b[39;00m \u001b[38;5;28;43mself\u001b[39;49m\u001b[38;5;241;43m.\u001b[39;49m\u001b[43m_parent\u001b[49m\u001b[38;5;241;43m.\u001b[39;49m\u001b[43mexecute\u001b[49m\u001b[43m(\u001b[49m\u001b[43mcommand\u001b[49m\u001b[43m,\u001b[49m\u001b[43m \u001b[49m\u001b[43mparams\u001b[49m\u001b[43m)\u001b[49m\n",
      "File \u001b[1;32mc:\\Users\\kty99\\AppData\\Local\\Programs\\Python\\Python311\\Lib\\site-packages\\selenium\\webdriver\\remote\\webdriver.py:354\u001b[0m, in \u001b[0;36mWebDriver.execute\u001b[1;34m(self, driver_command, params)\u001b[0m\n\u001b[0;32m    352\u001b[0m response \u001b[38;5;241m=\u001b[39m \u001b[38;5;28mself\u001b[39m\u001b[38;5;241m.\u001b[39mcommand_executor\u001b[38;5;241m.\u001b[39mexecute(driver_command, params)\n\u001b[0;32m    353\u001b[0m \u001b[38;5;28;01mif\u001b[39;00m response:\n\u001b[1;32m--> 354\u001b[0m     \u001b[38;5;28;43mself\u001b[39;49m\u001b[38;5;241;43m.\u001b[39;49m\u001b[43merror_handler\u001b[49m\u001b[38;5;241;43m.\u001b[39;49m\u001b[43mcheck_response\u001b[49m\u001b[43m(\u001b[49m\u001b[43mresponse\u001b[49m\u001b[43m)\u001b[49m\n\u001b[0;32m    355\u001b[0m     response[\u001b[38;5;124m\"\u001b[39m\u001b[38;5;124mvalue\u001b[39m\u001b[38;5;124m\"\u001b[39m] \u001b[38;5;241m=\u001b[39m \u001b[38;5;28mself\u001b[39m\u001b[38;5;241m.\u001b[39m_unwrap_value(response\u001b[38;5;241m.\u001b[39mget(\u001b[38;5;124m\"\u001b[39m\u001b[38;5;124mvalue\u001b[39m\u001b[38;5;124m\"\u001b[39m, \u001b[38;5;28;01mNone\u001b[39;00m))\n\u001b[0;32m    356\u001b[0m     \u001b[38;5;28;01mreturn\u001b[39;00m response\n",
      "File \u001b[1;32mc:\\Users\\kty99\\AppData\\Local\\Programs\\Python\\Python311\\Lib\\site-packages\\selenium\\webdriver\\remote\\errorhandler.py:229\u001b[0m, in \u001b[0;36mErrorHandler.check_response\u001b[1;34m(self, response)\u001b[0m\n\u001b[0;32m    227\u001b[0m         alert_text \u001b[38;5;241m=\u001b[39m value[\u001b[38;5;124m\"\u001b[39m\u001b[38;5;124malert\u001b[39m\u001b[38;5;124m\"\u001b[39m]\u001b[38;5;241m.\u001b[39mget(\u001b[38;5;124m\"\u001b[39m\u001b[38;5;124mtext\u001b[39m\u001b[38;5;124m\"\u001b[39m)\n\u001b[0;32m    228\u001b[0m     \u001b[38;5;28;01mraise\u001b[39;00m exception_class(message, screen, stacktrace, alert_text)  \u001b[38;5;66;03m# type: ignore[call-arg]  # mypy is not smart enough here\u001b[39;00m\n\u001b[1;32m--> 229\u001b[0m \u001b[38;5;28;01mraise\u001b[39;00m exception_class(message, screen, stacktrace)\n",
      "\u001b[1;31mElementNotInteractableException\u001b[0m: Message: element not interactable\n  (Session info: chrome=129.0.6668.90)\nStacktrace:\n\tGetHandleVerifier [0x00007FF69207B095+29557]\n\t(No symbol) [0x00007FF691FEFA50]\n\t(No symbol) [0x00007FF691EAB399]\n\t(No symbol) [0x00007FF691F00B0F]\n\t(No symbol) [0x00007FF691EF354E]\n\t(No symbol) [0x00007FF691F2718A]\n\t(No symbol) [0x00007FF691EF2E86]\n\t(No symbol) [0x00007FF691F273A0]\n\t(No symbol) [0x00007FF691F4851C]\n\t(No symbol) [0x00007FF691F26F33]\n\t(No symbol) [0x00007FF691EF116F]\n\t(No symbol) [0x00007FF691EF22D1]\n\tGetHandleVerifier [0x00007FF6923AC96D+3378253]\n\tGetHandleVerifier [0x00007FF6923F8497+3688311]\n\tGetHandleVerifier [0x00007FF6923ED1CB+3642539]\n\tGetHandleVerifier [0x00007FF69213A6B6+813462]\n\t(No symbol) [0x00007FF691FFAB5F]\n\t(No symbol) [0x00007FF691FF6B74]\n\t(No symbol) [0x00007FF691FF6D10]\n\t(No symbol) [0x00007FF691FE5C1F]\n\tBaseThreadInitThunk [0x00007FFA331E257D+29]\n\tRtlUserThreadStart [0x00007FFA33DCAF08+40]\n"
     ]
    }
   ],
   "source": [
    "# 좌석 구역 이름 선택\n",
    "# driver.find_element(By.XPATH, \"InlineTextBox='CU캠핑존(2인)']\").click()\n",
    "# time.sleep(0.5)\n",
    "\n",
    "# 좌석선택 버튼 클릭\n",
    "driver.find_element(By.XPATH, '//div[@class=\"twoBtn\"]/a[2]').click()\n",
    "time.sleep(0.5)"
   ]
  },
  {
   "cell_type": "code",
   "execution_count": 41,
   "metadata": {},
   "outputs": [],
   "source": [
    "def select_seat():\n",
    "    # 좌석 요소 가져오기\n",
    "    seat_elements = driver.find_elements(By.CSS_SELECTOR, '.stySeat')\n",
    "    seat_info_list = []\n",
    "\n",
    "    # 좌석 정보 얻기 및 파싱\n",
    "    for seat in seat_elements:\n",
    "        seat_title = seat.get_attribute('title')\n",
    "        print(f\"좌석 정보: {seat_title}\")\n",
    "\n",
    "        try:\n",
    "            seat_row, seat_number_str = seat_title.split('-')\n",
    "            seat_row = seat_row.strip().replace(\"열\", \"\")  # \"열\" 제거\n",
    "            seat_number = int(seat_number_str.strip())\n",
    "            seat_info_list.append((seat_row, seat_number, seat))\n",
    "        except ValueError:\n",
    "            print(f\"좌석 정보를 파싱하는 중 오류 발생: {seat_title}\")\n",
    "            continue\n",
    "\n",
    "    # 연속 확인 및 선택\n",
    "    for i, (seat_row, seat_number, seat) in enumerate(seat_info_list):\n",
    "        if 6 <= seat_number <= 17:  # 6~17 칸 사이의 좌석만 선택\n",
    "            for j in range(i + 1, len(seat_info_list)):\n",
    "                next_seat_row, next_seat_number, next_seat = seat_info_list[j]\n",
    "                if next_seat_row == seat_row and (next_seat_number == seat_number + 1 or next_seat_number == seat_number - 1):\n",
    "                    # 연속이나 선택된 좌석 목록에 추가\n",
    "                    try:\n",
    "                        seat.click()\n",
    "                        next_seat.click()\n",
    "                        print(f\"연속된 좌석 선택 성공: {seat_row}-{seat_number}, {next_seat_row}-{next_seat_number}\")\n",
    "                        return  # 연속된 좌석을 찾았으므로 함수 종료\n",
    "                    except Exception as e:\n",
    "                        print(f\"좌석 선택 중 오류 발생: {e}\")\n",
    "                        continue\n",
    "\n",
    "    # 선택 완료를 위한 대기 시간\n",
    "    time.sleep(1)\n"
   ]
  },
  {
   "cell_type": "code",
   "execution_count": 42,
   "metadata": {},
   "outputs": [
    {
     "name": "stdout",
     "output_type": "stream",
     "text": [
      "반복문 끝\n"
     ]
    },
    {
     "ename": "TimeoutException",
     "evalue": "Message: \n",
     "output_type": "error",
     "traceback": [
      "\u001b[1;31m---------------------------------------------------------------------------\u001b[0m",
      "\u001b[1;31mTimeoutException\u001b[0m                          Traceback (most recent call last)",
      "Cell \u001b[1;32mIn[42], line 17\u001b[0m\n\u001b[0;32m     15\u001b[0m \u001b[38;5;28;01mtry\u001b[39;00m:\n\u001b[0;32m     16\u001b[0m     select_seat()\n\u001b[1;32m---> 17\u001b[0m     \u001b[43mhandle_alert_and_retry\u001b[49m\u001b[43m(\u001b[49m\u001b[43m)\u001b[49m\n\u001b[0;32m     18\u001b[0m \u001b[38;5;28;01mfinally\u001b[39;00m:\n\u001b[0;32m     19\u001b[0m     \u001b[38;5;28mprint\u001b[39m(\u001b[38;5;124m\"\u001b[39m\u001b[38;5;124m반복문 끝\u001b[39m\u001b[38;5;124m\"\u001b[39m)\n",
      "Cell \u001b[1;32mIn[42], line 4\u001b[0m, in \u001b[0;36mhandle_alert_and_retry\u001b[1;34m()\u001b[0m\n\u001b[0;32m      1\u001b[0m \u001b[38;5;28;01mdef\u001b[39;00m \u001b[38;5;21mhandle_alert_and_retry\u001b[39m():\n\u001b[0;32m      2\u001b[0m     \u001b[38;5;28;01mtry\u001b[39;00m:\n\u001b[0;32m      3\u001b[0m         \u001b[38;5;66;03m# alert이 뜨면 닫기\u001b[39;00m\n\u001b[1;32m----> 4\u001b[0m         \u001b[43mWebDriverWait\u001b[49m\u001b[43m(\u001b[49m\u001b[43mdriver\u001b[49m\u001b[43m,\u001b[49m\u001b[43m \u001b[49m\u001b[38;5;241;43m2\u001b[39;49m\u001b[43m)\u001b[49m\u001b[38;5;241;43m.\u001b[39;49m\u001b[43muntil\u001b[49m\u001b[43m(\u001b[49m\u001b[43mEC\u001b[49m\u001b[38;5;241;43m.\u001b[39;49m\u001b[43malert_is_present\u001b[49m\u001b[43m(\u001b[49m\u001b[43m)\u001b[49m\u001b[43m)\u001b[49m\n\u001b[0;32m      5\u001b[0m         alert \u001b[38;5;241m=\u001b[39m driver\u001b[38;5;241m.\u001b[39mswitch_to\u001b[38;5;241m.\u001b[39malert\n\u001b[0;32m      6\u001b[0m         alert\u001b[38;5;241m.\u001b[39maccept()\n",
      "File \u001b[1;32mc:\\Users\\kty99\\AppData\\Local\\Programs\\Python\\Python311\\Lib\\site-packages\\selenium\\webdriver\\support\\wait.py:105\u001b[0m, in \u001b[0;36mWebDriverWait.until\u001b[1;34m(self, method, message)\u001b[0m\n\u001b[0;32m    103\u001b[0m     \u001b[38;5;28;01mif\u001b[39;00m time\u001b[38;5;241m.\u001b[39mmonotonic() \u001b[38;5;241m>\u001b[39m end_time:\n\u001b[0;32m    104\u001b[0m         \u001b[38;5;28;01mbreak\u001b[39;00m\n\u001b[1;32m--> 105\u001b[0m \u001b[38;5;28;01mraise\u001b[39;00m TimeoutException(message, screen, stacktrace)\n",
      "\u001b[1;31mTimeoutException\u001b[0m: Message: \n"
     ]
    }
   ],
   "source": [
    "def handle_alert_and_retry():\n",
    "    try:\n",
    "        # alert이 뜨면 닫기\n",
    "        WebDriverWait(driver, 2).until(EC.alert_is_present())\n",
    "        alert = driver.switch_to.alert\n",
    "        alert.accept()\n",
    "\n",
    "        # alert을 처리한 후 다시 시도\n",
    "        driver.switch_to.default_content()\n",
    "        driver.switch_to.frame(driver.find_element(By.ID, 'ifrmSeatDetail'))\n",
    "        select_seat()\n",
    "    except TimeoutError:\n",
    "        print(\"alert이 발생하지 않았습니다\")\n",
    "\n",
    "try:\n",
    "    select_seat()\n",
    "    handle_alert_and_retry()\n",
    "finally:\n",
    "    print(\"반복문 끝\")"
   ]
  }
 ],
 "metadata": {
  "kernelspec": {
   "display_name": "Python 3",
   "language": "python",
   "name": "python3"
  },
  "language_info": {
   "codemirror_mode": {
    "name": "ipython",
    "version": 3
   },
   "file_extension": ".py",
   "mimetype": "text/x-python",
   "name": "python",
   "nbconvert_exporter": "python",
   "pygments_lexer": "ipython3",
   "version": "3.11.6"
  }
 },
 "nbformat": 4,
 "nbformat_minor": 2
}
